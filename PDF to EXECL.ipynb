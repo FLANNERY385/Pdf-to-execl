{
 "cells": [
  {
   "cell_type": "markdown",
   "id": "345f4b15-48e6-4845-aa70-7a03cd01fd4b",
   "metadata": {},
   "source": [
    "# pdf to execl"
   ]
  },
  {
   "cell_type": "code",
   "execution_count": 30,
   "id": "2f0073b6-fb4a-444d-b155-6529a05d6ad2",
   "metadata": {},
   "outputs": [
    {
     "name": "stdin",
     "output_type": "stream",
     "text": [
      "请输入文件夹的位置： E:\\平安证券实习\\20240507\\固收\\任务1\\20240430\\调试1\n"
     ]
    }
   ],
   "source": [
    "import os\n",
    "import pdfplumber\n",
    "import pandas as pd\n",
    "from openpyxl import load_workbook\n",
    "\n",
    "folder_path = input(\"请输入文件夹的位置：\")\n",
    "\n",
    "def deduplicate_columns(df):\n",
    "    cols = pd.Series(df.columns)\n",
    "    for dup in cols[cols.duplicated()].unique(): \n",
    "        cols[cols[cols == dup].index.values.tolist()] = [dup + '_' + str(i) if i != 0 else dup for i in range(sum(cols == dup))]\n",
    "    df.columns = cols\n",
    "    return df\n",
    "\n",
    "import time\n",
    "\n",
    "def pdf_to_excel(pdf_path, excel_path):\n",
    "    with pdfplumber.open(pdf_path) as pdf:\n",
    "        pages = pdf.pages\n",
    "        with pd.ExcelWriter(excel_path, engine='openpyxl') as writer:  # 将 ExcelWriter 对象移出循环\n",
    "            for i, page in enumerate(pages):\n",
    "                table = page.extract_table()\n",
    "                df = pd.DataFrame(table)  # 不再使用第一行作为列标题\n",
    "                df = deduplicate_columns(df)  # 处理重复列名\n",
    "                df.reset_index(drop=True, inplace=True)  # 重置索引\n",
    "                df.to_excel(writer, sheet_name=f'Sheet{i+1}', index=False)  # 将 DataFrame 写入到一个新的工作表中\n",
    "\n",
    "  \n",
    "def convert_all_pdfs_in_folder(folder_path):\n",
    "    for filename in os.listdir(folder_path):\n",
    "        if filename.endswith(\".pdf\"):\n",
    "            pdf_path = os.path.join(folder_path, filename)\n",
    "            excel_path = os.path.join(folder_path, filename.replace('.pdf', '.xlsx'))\n",
    "            pdf_to_excel(pdf_path, excel_path)\n",
    "\n",
    "convert_all_pdfs_in_folder(folder_path)\n"
   ]
  },
  {
   "cell_type": "markdown",
   "id": "61770722-1ea8-4e28-91fc-22e7c08fcb3f",
   "metadata": {},
   "source": [
    "# 删除原始pdf"
   ]
  },
  {
   "cell_type": "code",
   "execution_count": 31,
   "id": "a05fda3f-3007-4c4f-bf84-04179cd15b65",
   "metadata": {},
   "outputs": [],
   "source": [
    "import os\n",
    "\n",
    "# 遍历文件夹中的所有PDF文件\n",
    "for filename in os.listdir(folder_path):\n",
    "    if filename.endswith('.pdf'):\n",
    "        file_path = os.path.join(folder_path, filename)\n",
    "\n",
    "        # 删除文件\n",
    "        os.remove(file_path)"
   ]
  },
  {
   "cell_type": "markdown",
   "id": "6f314e0e-68e1-4d66-bc96-abde2e6e4df1",
   "metadata": {},
   "source": [
    "# 清除所有空白格防止干扰sheet合并"
   ]
  },
  {
   "cell_type": "code",
   "execution_count": 32,
   "id": "4e1b4fa9-386d-4c25-9a46-d08004ada517",
   "metadata": {},
   "outputs": [
    {
     "name": "stdout",
     "output_type": "stream",
     "text": [
      "All Excel files have been cleaned successfully.\n"
     ]
    }
   ],
   "source": [
    "import pandas as pd\n",
    "import numpy as np\n",
    "import os\n",
    "\n",
    "\n",
    "# 获取文件夹中的所有Excel文件\n",
    "excel_files = [f for f in os.listdir(folder_path) if f.endswith('.xlsx') or f.endswith('.xls')]\n",
    "\n",
    "# 遍历每个Excel文件\n",
    "for excel_file in excel_files:\n",
    "    file_path = os.path.join(folder_path, excel_file)\n",
    "    \n",
    "    # 读取Excel文件中的所有sheet\n",
    "    all_sheets = pd.read_excel(file_path, sheet_name=None)\n",
    "    \n",
    "    # 创建一个新的Excel writer对象\n",
    "    writer = pd.ExcelWriter(os.path.join(folder_path, 'cleaned_' + excel_file))\n",
    "    \n",
    "    # 获取所有sheet的名字\n",
    "    sheet_names = list(all_sheets.keys())\n",
    "    \n",
    "    # 遍历每个sheet\n",
    "    for i, (sheet_name, df) in enumerate(all_sheets.items()):\n",
    "        # 删除所有空白单元格\n",
    "        df = df.replace(r'^\\s*$', np.nan, regex=True).dropna(axis=1, how='all')\n",
    "        \n",
    "        # 如果是最后一个sheet，删除索引为6的列\n",
    "        if i == len(sheet_names) - 1 and 6 in df.columns:\n",
    "            df = df.drop(6, axis=1)\n",
    "        \n",
    "        # 将清洗后的DataFrame写入新的Excel文件\n",
    "        df.to_excel(writer, sheet_name, index=False)\n",
    "    \n",
    "    # 保存新的Excel文件\n",
    "    writer.close()\n",
    "\n",
    "print('All Excel files have been cleaned successfully.')"
   ]
  },
  {
   "cell_type": "markdown",
   "id": "a0c6f0b8-11d3-47e6-9b3d-48aab9739ddf",
   "metadata": {},
   "source": [
    "# 删除处理前的execl"
   ]
  },
  {
   "cell_type": "code",
   "execution_count": 33,
   "id": "034ed327-82fa-44d6-b718-ce99526e9c90",
   "metadata": {},
   "outputs": [],
   "source": [
    "import os\n",
    "\n",
    "# 遍历文件夹中的所有Excel文件\n",
    "for filename in os.listdir(folder_path):\n",
    "    if filename.endswith('.xlsx') and 'cleaned' not in filename:\n",
    "        file_path = os.path.join(folder_path, filename)\n",
    "\n",
    "        # 删除文件\n",
    "        os.remove(file_path)"
   ]
  },
  {
   "cell_type": "markdown",
   "id": "bc045077-e493-4d49-be57-3e712efcc816",
   "metadata": {},
   "source": [
    "# 合并sheet"
   ]
  },
  {
   "cell_type": "code",
   "execution_count": 34,
   "id": "6073a9d8-297f-4139-9117-7e38a29058c8",
   "metadata": {},
   "outputs": [],
   "source": [
    "import os\n",
    "import pandas as pd\n",
    "\n",
    "# 遍历文件夹中的所有Excel文件\n",
    "for filename in os.listdir(folder_path):\n",
    "    if filename.endswith('.xlsx'):\n",
    "        file_path = os.path.join(folder_path, filename)\n",
    "\n",
    "        # 读取Excel文件\n",
    "        xls = pd.ExcelFile(file_path)\n",
    "\n",
    "        # 初始化一个空的dataframe用于存储合并后的数据\n",
    "        df_all = pd.DataFrame()\n",
    "\n",
    "        # 遍历每个sheet\n",
    "        for sheet_name in xls.sheet_names:\n",
    "            # 读取sheet\n",
    "            df = pd.read_excel(xls, sheet_name)\n",
    "\n",
    "            # 重置索引行\n",
    "            df.columns = range(df.shape[1])\n",
    "\n",
    "            # 合并数据\n",
    "            df_all = pd.concat([df_all, df])\n",
    "\n",
    "        # 保存到新的Excel文件\n",
    "        new_file_path = file_path.replace('.xlsx', '') + '_合并后.xlsx'\n",
    "        df_all.to_excel(new_file_path, index=False)"
   ]
  },
  {
   "cell_type": "markdown",
   "id": "599e058b-577c-43a9-883f-c86013a34a38",
   "metadata": {},
   "source": [
    "# 新建文件夹将处理后的文件挪进去"
   ]
  },
  {
   "cell_type": "code",
   "execution_count": 35,
   "id": "911d9dac-f121-4cd6-8fb9-12f61bc9eebf",
   "metadata": {},
   "outputs": [],
   "source": [
    "import os\n",
    "import shutil\n",
    "\n",
    "\n",
    "# 在指定目录下创建新的文件夹\n",
    "if not os.path.exists(os.path.join(folder_path, '调试')):\n",
    "    os.makedirs(os.path.join(folder_path, '调试'))\n",
    "\n",
    "# 遍历指定目录下的所有文件\n",
    "for filename in os.listdir(folder_path):\n",
    "    # 检查文件名是否包含“合并后”且为Excel文件\n",
    "    if '合并后' in filename and filename.endswith('.xlsx'):\n",
    "        # 剪切文件到新的文件夹\n",
    "        shutil.move(os.path.join(folder_path, filename), os.path.join(folder_path, '调试', filename))\n"
   ]
  },
  {
   "cell_type": "markdown",
   "id": "6610b1fb-c73e-4280-a586-eb287f6f7f90",
   "metadata": {},
   "source": [
    "# 删除索引行"
   ]
  },
  {
   "cell_type": "code",
   "execution_count": 36,
   "id": "f79b3056-40da-481e-9aa7-91ad6bd0daf1",
   "metadata": {
    "scrolled": true
   },
   "outputs": [],
   "source": [
    "import os\n",
    "import pandas as pd\n",
    "\n",
    "folder_path1 = os.path.join(folder_path, '调试')  # 新的工作目录\n",
    "\n",
    "# 遍历文件夹中的所有Excel文件\n",
    "for filename in os.listdir(folder_path1):\n",
    "    if filename.endswith('.xlsx'):\n",
    "        file_path = os.path.join(folder_path1, filename)\n",
    "\n",
    "        # 读取Excel文件的第一个sheet\n",
    "        df = pd.read_excel(file_path, header=None)\n",
    "\n",
    "        # 删除索引行并重置索引\n",
    "        df = df.iloc[1:].reset_index(drop=True)\n",
    "\n",
    "        # 保存到新的Excel文件\n",
    "        df.to_excel(file_path.replace('.xlsx', '_处理后.xlsx'), index=False, header=False)"
   ]
  },
  {
   "cell_type": "markdown",
   "id": "0f891cd6-7b97-4ed9-ab90-f3289c80e4b9",
   "metadata": {},
   "source": [
    "# 删除处理前文件"
   ]
  },
  {
   "cell_type": "code",
   "execution_count": 37,
   "id": "1d8b1b97-8638-4534-889c-d7eb9407f10b",
   "metadata": {},
   "outputs": [],
   "source": [
    "import os\n",
    "\n",
    "# 遍历文件夹中的所有Excel文件\n",
    "for filename in os.listdir(folder_path1):\n",
    "    if filename.endswith('.xlsx') and '处理后' not in filename:\n",
    "        file_path = os.path.join(folder_path1, filename)\n",
    "\n",
    "        # 删除文件\n",
    "        os.remove(file_path)"
   ]
  },
  {
   "cell_type": "markdown",
   "id": "715a71dd-b008-4c49-a52f-8f078004f9a2",
   "metadata": {},
   "source": [
    "# 匹配债券简称"
   ]
  },
  {
   "cell_type": "code",
   "execution_count": 38,
   "id": "4c36fcf5-aa8c-4c8a-917f-616bd11a589f",
   "metadata": {},
   "outputs": [
    {
     "name": "stdout",
     "output_type": "stream",
     "text": [
      "All Excel files have been modified successfully.\n"
     ]
    }
   ],
   "source": [
    "import pandas as pd\n",
    "import os\n",
    "import re\n",
    "\n",
    "\n",
    "# 获取文件夹中的所有Excel文件\n",
    "excel_files = [f for f in os.listdir(folder_path1) if f.endswith('.xlsx') or f.endswith('.xls')]\n",
    "\n",
    "# 遍历每个Excel文件\n",
    "for excel_file in excel_files:\n",
    "    file_path = os.path.join(folder_path1, excel_file)\n",
    "    \n",
    "    # 读取Excel文件中的唯一sheet\n",
    "    df = pd.read_excel(file_path)\n",
    "    \n",
    "    # 查找包含\"武清\"的单元格，并获取冒号之后的字符串\n",
    "    new_col_value = None\n",
    "    for col in df.columns:\n",
    "        for cell in df[col]:\n",
    "            if pd.notna(cell) and \"武清\" in str(cell):\n",
    "                match = re.search('：(.*)', str(cell))\n",
    "                if match:\n",
    "                    new_col_value = match.group(1)\n",
    "                    break\n",
    "        if new_col_value:\n",
    "            break\n",
    "    \n",
    "    # 如果找到了包含\"武清\"的单元格，插入新的一列\n",
    "    if new_col_value:\n",
    "        df.insert(0, 'New Column', new_col_value)\n",
    "    \n",
    "    # 创建一个新的Excel writer对象\n",
    "    writer = pd.ExcelWriter(os.path.join(folder_path1, 'modified_' + excel_file))\n",
    "    \n",
    "    # 将修改后的DataFrame写入新的Excel文件\n",
    "    df.to_excel(writer, index=False)\n",
    "    \n",
    "    # 保存新的Excel文件\n",
    "    writer.close()\n",
    "\n",
    "print('All Excel files have been modified successfully.')\n"
   ]
  },
  {
   "cell_type": "markdown",
   "id": "671b6571-555e-4178-b4ab-2f9c759538b6",
   "metadata": {},
   "source": [
    "# 删除处理前文件"
   ]
  },
  {
   "cell_type": "code",
   "execution_count": 39,
   "id": "4077d79a-c9b2-4f02-b79a-5a1e937c6f81",
   "metadata": {},
   "outputs": [],
   "source": [
    "import os\n",
    "\n",
    "# 遍历文件夹中的所有Excel文件\n",
    "for filename in os.listdir(folder_path1):\n",
    "    if filename.endswith('.xlsx') and 'modified' not in filename:\n",
    "        file_path = os.path.join(folder_path1, filename)\n",
    "\n",
    "        # 删除文件\n",
    "        os.remove(file_path)"
   ]
  },
  {
   "cell_type": "markdown",
   "id": "be9b1dda-839f-47e9-a17f-e152ec436d83",
   "metadata": {},
   "source": [
    "# 重置索引行"
   ]
  },
  {
   "cell_type": "code",
   "execution_count": 40,
   "id": "5f6e5d6c-91e2-4f11-a2aa-ed44c87f6b46",
   "metadata": {},
   "outputs": [],
   "source": [
    "\n",
    "import os\n",
    "import pandas as pd\n",
    "\n",
    "\n",
    "# 遍历文件夹中的所有Excel文件\n",
    "for filename in os.listdir(folder_path1):\n",
    "    if filename.endswith('.xlsx'):\n",
    "        file_path = os.path.join(folder_path1, filename)\n",
    "\n",
    "        # 读取Excel文件\n",
    "        xls = pd.ExcelFile(file_path)\n",
    "\n",
    "        # 初始化一个空的dataframe用于存储合并后的数据\n",
    "        df_all = pd.DataFrame()\n",
    "\n",
    "        # 遍历每个sheet\n",
    "        for sheet_name in xls.sheet_names:\n",
    "            # 读取sheet\n",
    "            df = pd.read_excel(xls, sheet_name)\n",
    "\n",
    "            # 重置索引行\n",
    "            df.columns = range(df.shape[1])\n",
    "\n",
    "            # 合并数据\n",
    "            df_all = pd.concat([df_all, df])\n",
    "\n",
    "        # 保存到新的Excel文件\n",
    "        new_file_path = file_path.replace('.xlsx', '') + '_合并后.xlsx'\n",
    "        df_all.to_excel(new_file_path, index=False)"
   ]
  },
  {
   "cell_type": "markdown",
   "id": "2b7cdf45-7772-48a1-82df-303a3d932998",
   "metadata": {},
   "source": [
    "# 新建储存文件夹"
   ]
  },
  {
   "cell_type": "code",
   "execution_count": 41,
   "id": "a543e614-01fd-4e79-8e71-cbdc22e51e20",
   "metadata": {},
   "outputs": [],
   "source": [
    "import os\n",
    "import shutil\n",
    "\n",
    "\n",
    "# 在指定目录下创建新的文件夹\n",
    "if not os.path.exists(os.path.join(folder_path1, '调试')):\n",
    "    os.makedirs(os.path.join(folder_path1, '调试'))\n",
    "\n",
    "# 遍历指定目录下的所有文件\n",
    "for filename in os.listdir(folder_path1):\n",
    "    # 检查文件名是否包含“合并后”且为Excel文件\n",
    "    if '合并后_处理后_合并后' in filename and filename.endswith('.xlsx'):\n",
    "        # 剪切文件到新的文件夹\n",
    "        shutil.move(os.path.join(folder_path1, filename), os.path.join(folder_path1, '调试', filename))\n"
   ]
  },
  {
   "cell_type": "markdown",
   "id": "32d3b9fb-e5e1-4a25-b0b7-d1ce961c6fe3",
   "metadata": {},
   "source": [
    "# 删除干扰行"
   ]
  },
  {
   "cell_type": "code",
   "execution_count": 42,
   "id": "8e68ba28-732a-44e0-86a5-3da3cf7b43c0",
   "metadata": {},
   "outputs": [
    {
     "name": "stdout",
     "output_type": "stream",
     "text": [
      "All Excel files have been cleaned successfully.\n"
     ]
    }
   ],
   "source": [
    "import pandas as pd\n",
    "import os\n",
    "\n",
    "folder_path2 = os.path.join(folder_path1, '调试')  # 新的工作目录\n",
    "\n",
    "# 获取文件夹中的所有Excel文件\n",
    "excel_files = [f for f in os.listdir(folder_path2) if f.endswith('.xlsx') or f.endswith('.xls')]\n",
    "\n",
    "# 遍历每个Excel文件\n",
    "for excel_file in excel_files:\n",
    "    file_path = os.path.join(folder_path2, excel_file)\n",
    "    \n",
    "    # 读取Excel文件中的唯一sheet，不使用第一行作为列名\n",
    "    df = pd.read_excel(file_path, header=None)\n",
    "    \n",
    "    # 删除第2行到第11行以及最后两行\n",
    "    df = df.drop(list(range(1, 11))).iloc[:-2]\n",
    "    \n",
    "    # 创建一个新的Excel writer对象\n",
    "    writer = pd.ExcelWriter(os.path.join(folder_path2, 'cleaned_' + excel_file))\n",
    "    \n",
    "    # 将清洗后的DataFrame写入新的Excel文件\n",
    "    df.to_excel(writer, index=False, header=False)\n",
    "    \n",
    "    # 保存新的Excel文件\n",
    "    writer.close()\n",
    "\n",
    "print('All Excel files have been cleaned successfully.')"
   ]
  },
  {
   "cell_type": "markdown",
   "id": "d849a87a-7040-4b02-9257-101e31c20a45",
   "metadata": {},
   "source": [
    "# 删除处理前文件"
   ]
  },
  {
   "cell_type": "code",
   "execution_count": 43,
   "id": "eaa402fe-632e-4298-8df9-45cfad46cb1c",
   "metadata": {},
   "outputs": [],
   "source": [
    "import os\n",
    "\n",
    "# 遍历文件夹中的所有Excel文件\n",
    "for filename in os.listdir(folder_path2):\n",
    "    if filename.endswith('.xlsx') and 'cleaned_modified_cleaned' not in filename:\n",
    "        file_path = os.path.join(folder_path2, filename)\n",
    "\n",
    "        # 删除文件\n",
    "        os.remove(file_path)"
   ]
  },
  {
   "cell_type": "code",
   "execution_count": 44,
   "id": "81341b18-2fad-4539-ae52-45b06bd98662",
   "metadata": {},
   "outputs": [
    {
     "name": "stdin",
     "output_type": "stream",
     "text": [
      "请输入工作目录： E:\\平安证券实习\\20240507\\固收\\任务1\\20240430\\调试1\\调试\\调试\n"
     ]
    },
    {
     "name": "stdout",
     "output_type": "stream",
     "text": [
      "合并后的文件保存在：E:\\平安证券实习\\20240507\\固收\\任务1\\20240430\\调试1\\调试\\调试\\Mergedbook.xlsx\n"
     ]
    }
   ],
   "source": [
    "import os\n",
    "import pandas as pd\n",
    "\n",
    "# 设置工作目录\n",
    "work_dir = input(\"请输入工作目录：\")  # 用户每次运行时输入工作目录\n",
    "\n",
    "# 获取所有Excel文件的路径\n",
    "file_list = [os.path.join(work_dir, filename) for filename in os.listdir(work_dir) if filename.endswith(\".xlsx\")]\n",
    "\n",
    "# 读取Excel文件\n",
    "dfs = []\n",
    "for file in file_list:\n",
    "    # 读取Excel文件，设置第一列为索引列\n",
    "    data = pd.read_excel(file, index_col=0)\n",
    "    dfs.append(data)\n",
    "\n",
    "# 合并多个工作表\n",
    "result = pd.concat(dfs)\n",
    "\n",
    "# 保存到新的Excel文件\n",
    "output_file = os.path.join(work_dir, \"Mergedbook.xlsx\")\n",
    "result.to_excel(output_file)\n",
    "\n",
    "print(f\"合并后的文件保存在：{output_file}\")\n"
   ]
  },
  {
   "cell_type": "code",
   "execution_count": 45,
   "id": "83c8397a-6b5e-44e0-8b2f-b124503e34d8",
   "metadata": {},
   "outputs": [],
   "source": [
    "import os\n",
    "\n",
    "# 遍历文件夹中的所有Excel文件\n",
    "for filename in os.listdir(folder_path2):\n",
    "    if filename.endswith('.xlsx') and 'Mergedbook' not in filename:\n",
    "        file_path = os.path.join(folder_path2, filename)\n",
    "\n",
    "        # 删除文件\n",
    "        os.remove(file_path)"
   ]
  }
 ],
 "metadata": {
  "kernelspec": {
   "display_name": "Python 3 (ipykernel)",
   "language": "python",
   "name": "python3"
  },
  "language_info": {
   "codemirror_mode": {
    "name": "ipython",
    "version": 3
   },
   "file_extension": ".py",
   "mimetype": "text/x-python",
   "name": "python",
   "nbconvert_exporter": "python",
   "pygments_lexer": "ipython3",
   "version": "3.11.7"
  }
 },
 "nbformat": 4,
 "nbformat_minor": 5
}
